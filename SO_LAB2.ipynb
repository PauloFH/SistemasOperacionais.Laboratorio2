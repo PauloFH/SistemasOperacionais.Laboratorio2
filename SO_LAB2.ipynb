{
 "cells": [
  {
   "cell_type": "markdown",
   "metadata": {
    "id": "r69NinaO5QKZ"
   },
   "source": [
    "# Sistemas Operacionais\n",
    "## Laboratório 02 - Threads e comunicação entre processos\n",
    "\n",
    "### **Aluno:** Paulo Roberto Fernandes Holanda\n"
   ]
  },
  {
   "cell_type": "markdown",
   "metadata": {
    "id": "YAUhUDqhKLoO"
   },
   "source": [
    "**Exercício 1**\n",
    "\n",
    "Modifique o código acima para fazer com que dois processos filhos alterem uma memória compartilhada contendo um inteiro. Faça o processo pai esperar por seus dois filhos para depois imprimir o valor da variável na tela. Dica: olhe o código do exercício 3 do Laboratório 1.\n",
    "\n",
    "\n",
    "---"
   ]
  },
  {
   "cell_type": "code",
   "execution_count": 1,
   "metadata": {},
   "outputs": [],
   "source": [
    "!mkdir -p build\n",
    "!mkdir -p exercises"
   ]
  },
  {
   "cell_type": "code",
   "execution_count": null,
   "metadata": {
    "colab": {
     "base_uri": "https://localhost:8080/"
    },
    "id": "Ku26kq2YLn91",
    "outputId": "8dde5f3b-3bd6-4296-cfa6-9472e94f9482"
   },
   "outputs": [],
   "source": [
    "%%writefile exercises/exercise1.c\n",
    "#include <sys/types.h>\n",
    "#include <sys/wait.h>\n",
    "#include <stdio.h>\n",
    "#include <unistd.h>\n",
    "#include <sys/shm.h>\n",
    "#include <sys/stat.h>\n",
    "#include <stdlib.h>\n",
    "\n",
    "int main()\n",
    "{\n",
    "    int segment_id = shmget(IPC_PRIVATE, sizeof(int), S_IRUSR | S_IWUSR);\n",
    "    int *sharedMemory = (int *)shmat(segment_id, NULL, 0);\n",
    "    *sharedMemory = 0; \n",
    "    printf(\"Pai com PID %d acessa a variável compartilhada com valor inicial: %d\\n\", getpid(), *sharedMemory);\n",
    "    \n",
    "    pid_t pid1 = fork();\n",
    "    if (pid1 < 0) {\n",
    "        printf(\"Erro ao criar o primeiro processo filho.\\n\");\n",
    "        return 1;\n",
    "    } else if (pid1 == 0) {  \n",
    "        sharedMemory = (int *)shmat(segment_id, NULL, 0); \n",
    "        *sharedMemory += 10; \n",
    "        printf(\"Filho 1 com PID: %d incrementou o valor da variável em 10 para: %d\\n\", getpid(), *sharedMemory);\n",
    "        shmdt(sharedMemory); \n",
    "        exit(0); \n",
    "    }\n",
    "\n",
    "    pid_t pid2 = fork();\n",
    "    if (pid2 < 0) {\n",
    "        printf(\"Erro ao criar o segundo processo filho.\\n\");\n",
    "        return 1;\n",
    "    } else if (pid2 == 0) {  \n",
    "        sharedMemory = (int *)shmat(segment_id, NULL, 0);  \n",
    "        *sharedMemory += 10;  \n",
    "        printf(\"Filho 2 com PID: %d incrementou o valor da variável em 10 para: %d\\n\", getpid(), *sharedMemory);\n",
    "        shmdt(sharedMemory);  \n",
    "        exit(0);\n",
    "    }\n",
    "    wait(NULL);\n",
    "    wait(NULL);\n",
    "\n",
    "    sharedMemory = (int *)shmat(segment_id, NULL, 0);\n",
    "    printf(\"Pai com PID %d acessa a variável compartilhada com valor final: %d\\n\", getpid(), *sharedMemory);\n",
    "    shmctl(segment_id, IPC_RMID, NULL);\n",
    "    return 0;\n",
    "}\n"
   ]
  },
  {
   "cell_type": "code",
   "execution_count": null,
   "metadata": {
    "colab": {
     "base_uri": "https://localhost:8080/"
    },
    "id": "4hQcMatZXEK7",
    "outputId": "934257b7-bf5a-451e-e440-9bcf9ee33f77"
   },
   "outputs": [],
   "source": [
    "!gcc ./exercises/exercise1.c -o ./build/exercise1\n",
    "!./build/exercise1"
   ]
  },
  {
   "cell_type": "markdown",
   "metadata": {},
   "source": [
    "\n",
    "\n",
    "\n",
    "**Exercício 2**\n",
    "\n",
    "Utilizando comunicação entre processos, crie um código que escreva a Sequência de Fibonacci, com o parâmetro n sendo uma variável global. Tal sequência deve ser gerada por um processo filho, mas deve ser impressa na tela pelo processo pai. Dica: olhe o código do desafio do Laboratório 1.\n",
    "\n",
    "\n",
    "---\n",
    "\n"
   ]
  },
  {
   "cell_type": "code",
   "execution_count": null,
   "metadata": {},
   "outputs": [],
   "source": [
    "%%writefile exercises/exercise2.c\n",
    "#include <sys/types.h>\n",
    "#include <sys/wait.h>\n",
    "#include <stdio.h>\n",
    "#include <unistd.h>\n",
    "#include <stdlib.h>\n",
    "\n",
    "int n = 20;\n",
    "int fibonacci_n(int fib_n_1, int fib_n_2) {\n",
    "    return fib_n_1 + fib_n_2;\n",
    "}\n",
    "int main() {\n",
    "    int pipe_fd[2];\n",
    "    \n",
    "    if (pipe(pipe_fd) == -1) {\n",
    "        perror(\"Erro ao criar pipe\");\n",
    "        return 1;\n",
    "    }\n",
    "    printf(\"Sou o processo pai com PID %d, vou criar um filho para calcular a sequência de Fibonacci.\\n\", getpid());\n",
    "    pid_t pid = fork(); \n",
    "\n",
    "    if (pid < 0) {\n",
    "        perror(\"Erro ao criar o processo filho\");\n",
    "        return 1;\n",
    "    } else if (pid == 0) {\n",
    "        printf(\"Sou o processo filho com PID %d, vou calcular a sequência de Fibonacci de tamanho n=%d.\\n\", getpid(), n);\n",
    "        close(pipe_fd[0]);\n",
    "\n",
    "        int fib[n+1];\n",
    "        fib[0] = 0;\n",
    "        if (n > 0) {\n",
    "            fib[1] = 1;\n",
    "        }\n",
    "\n",
    "        for (int i = 2; i <= n; i++) {\n",
    "            fib[i] = fibonacci_n(fib[i-1], fib[i-2]);\n",
    "        }\n",
    "        write(pipe_fd[1], fib, (n+1) * sizeof(int));\n",
    "        close(pipe_fd[1]);\n",
    "        exit(0);\n",
    "    } else {\n",
    "        close(pipe_fd[1]);\n",
    "        wait(NULL);\n",
    "        int fib[n+1];\n",
    "        read(pipe_fd[0], fib, (n+1) * sizeof(int));\n",
    "        close(pipe_fd[0]);\n",
    "\n",
    "        printf(\"Sou o processo pai com PID %d, e essa é a sequência de Fibonacci:\\n\", getpid());\n",
    "        for (int i = 0; i <= n; i++) {\n",
    "            printf(\"%d \", fib[i]);\n",
    "        }\n",
    "        printf(\"\\n\");\n",
    "    }\n",
    "    return 0;\n",
    "}\n"
   ]
  },
  {
   "cell_type": "code",
   "execution_count": null,
   "metadata": {},
   "outputs": [],
   "source": [
    "!gcc ./exercises/exercise2.c -o ./build/exercise2\n",
    "!./build/exercise2"
   ]
  },
  {
   "cell_type": "markdown",
   "metadata": {},
   "source": [
    "\n",
    "\n",
    "\n",
    "**Exercício 3**\n",
    "\n",
    "Usando comunicação entre processos, escreva um código que realiza a soma de *n* números naturais, sendo *n* uma variável global. Cada processo deve fazer apenas a soma de dois números e o resultado final deve ser retornado pelo primeiro processo. Por exemplo, o processo 1 deve fazer a soma de 0+1, o processo 2 vai pegar esse resultado e somar com 2, e assim por diante.\n",
    "\n",
    "\n",
    "---"
   ]
  },
  {
   "cell_type": "code",
   "execution_count": null,
   "metadata": {},
   "outputs": [],
   "source": [
    "%%writefile exercises/exercise3.c\n",
    "#include <sys/types.h>\n",
    "#include <sys/wait.h>\n",
    "#include <stdio.h>\n",
    "#include <unistd.h>\n",
    "#include <sys/shm.h>\n",
    "#include <sys/stat.h>\n",
    "#include <stdlib.h>\n",
    "\n",
    "\n",
    "int n = 15;\n",
    "int main()\n",
    "{\n",
    "    int segment_id = shmget(IPC_PRIVATE, sizeof(int), S_IRUSR | S_IWUSR);\n",
    "    int *sharedMemory = (int *)shmat(segment_id, NULL, 0);\n",
    "    *sharedMemory = 0;\n",
    "    shmdt(sharedMemory);\n",
    "    \n",
    "    for (int i = 1; i < n; i++) {\n",
    "        pid_t pid = fork();\n",
    "\n",
    "        if (pid < 0) {\n",
    "              printf(\"Sou o processo pai %d e nao consegui criar um novo processo.\\n\",getpid());\n",
    "            exit(1);\n",
    "        } else if (pid == 0) {  \n",
    "            sharedMemory = (int *)shmat(segment_id, NULL, 0);\n",
    "            *sharedMemory += i;\n",
    "            printf(\"Sou o processo filho %d e somei %d ao valor. O valor atual é: %d\\n\", getpid(), i, *sharedMemory);\n",
    "            shmdt(sharedMemory);\n",
    "            exit(0);\n",
    "        } else {\n",
    "            wait(NULL);\n",
    "        }\n",
    "    }\n",
    "    sharedMemory = (int *)shmat(segment_id, NULL, 0);\n",
    "    printf(\"Sou o processo pai %d e O valor final da soma é: %d\\n\",getpid(),*sharedMemory);\n",
    "    shmctl(segment_id, IPC_RMID, NULL);\n",
    "    return 0;\n",
    "}\n"
   ]
  },
  {
   "cell_type": "code",
   "execution_count": null,
   "metadata": {},
   "outputs": [],
   "source": [
    "!gcc ./exercises/exercise3.c -o ./build/exercise3\n",
    "!./build/exercise3"
   ]
  },
  {
   "cell_type": "markdown",
   "metadata": {},
   "source": [
    "**Exercício 5**\n",
    "\n",
    "Refaça o exercício 2 usando threads.\n",
    "\n",
    "---"
   ]
  },
  {
   "cell_type": "code",
   "execution_count": null,
   "metadata": {},
   "outputs": [],
   "source": [
    "%%writefile exercises/exercise5.c\n",
    "#include <sys/types.h>\n",
    "#include <sys/wait.h>\n",
    "#include <stdio.h>\n",
    "#include <unistd.h>\n",
    "#include <stdlib.h>\n",
    "#include <pthread.h>\n",
    "#include <stdio.h>\n",
    "#include <stdlib.h>\n",
    "#include <unistd.h>\n",
    "int n = 20;  \n",
    "int *fib;      \n",
    "\n",
    "void *calculate_fibonacci(void *arg) {\n",
    "    printf(\"sou a thread fazendo o Fibonnaci\\n\");\n",
    "    if (n >= 1) {\n",
    "        fib[0] = 0; \n",
    "    }\n",
    "    if (n >= 2) {\n",
    "        fib[1] = 1; \n",
    "    }\n",
    "\n",
    "    for (int i = 2; i <= n; i++) {\n",
    "        fib[i] = fib[i - 1] + fib[i - 2]; \n",
    "    }\n",
    "\n",
    "    pthread_exit(NULL);\n",
    "}\n",
    "\n",
    "int main() {\n",
    "    pthread_t thread_id;\n",
    "    fib = malloc((n + 1) * sizeof(int));\n",
    "    printf(\"Sou o processo pai com PID %d, e estou criando a thread\\n\", getpid());\n",
   
    "    if (pthread_create(&thread_id, NULL, calculate_fibonacci, NULL) != 0) {\n",
    "        printf(\"Erro ao criar a thread\\n\");\n",
    "        free(fib); \n",
    "        return 1;\n",
    "    }\n",
    "    pthread_join(thread_id, NULL);\n",
    "\n",
    "    printf(\"Sou o processo pai com PID %d, e essa é a sequência de Fibonacci:\\n\", getpid());\n",
    "    for (int i = 0; i <= n; i++) {\n",
    "        printf(\"%d \", fib[i]);\n",
    "    }\n",
    "    printf(\"\\n\");\n",
    "\n",
    "    free(fib);\n",
    "    return 0;\n",
    "}"
   ]
  },
  {
   "cell_type": "code",
   "execution_count": null,
   "metadata": {},
   "outputs": [],
   "source": [
    "!gcc ./exercises/exercise5.c -o build/exercise5\n",
    "!./build/exercise5"
   ]
  }
 ],
 "metadata": {
  "colab": {
   "provenance": []
  },
  "kernelspec": {
   "display_name": ".venv",
   "language": "python",
   "name": "python3"
  },
  "language_info": {
   "codemirror_mode": {
    "name": "ipython",
    "version": 3
   },
   "file_extension": ".py",
   "mimetype": "text/x-python",
   "name": "python",
   "nbconvert_exporter": "python",
   "pygments_lexer": "ipython3",
   "version": "3.11.2"
  }
 },
 "nbformat": 4,
 "nbformat_minor": 4
}
